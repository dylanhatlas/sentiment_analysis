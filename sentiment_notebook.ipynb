{
 "cells": [
  {
   "cell_type": "code",
   "execution_count": 78,
   "metadata": {
    "collapsed": true
   },
   "outputs": [
    {
     "name": "stdout",
     "output_type": "stream",
     "text": [
      "RT @Merced_Calif: Broken #OrovilleDam Is a Sign of Emergencies to Come https://t.co/OEDm0jMaUL #climate #climatechange\nUndefined location\nRT @ForeverGreen_: 31 years ago today:\nLarry Bird put up 47 points 14 rebounds and 11 assists.. playing most of the game left handed bc he…\nUndefined location\nRT @the_youngtv: @illegvls dam you fucked\nUndefined location\n😂😂 bra I hate this nigga I can't post shit .. always trynna use my momma as a dam escape goat\nUndefined location\nDam regulation is spotty at best, experts said, varying widely from state to state https://t.co/TpNUNN44QM\nUndefined location\nThe Country's Tallest Dam is About to Collapse - Liberal Media Doesn't Want You To Know It's the Government's Fault https://t.co/gWYuAW6CtC\nUndefined location\nSanta Clara County's largest dam on cusp of spilling over (Read more: https://t.co/Rj94TiLacz) #latimes #readnews\nUndefined location\nhttps://t.co/8TWZpKlQRw\nUndefined location\nWhen your dog starts licking your feet\nUndefined location\nMeanwhile At The Oroville Dam.... #humor https://t.co/xxw0AuzWlM\nUndefined location\nBabies are so dam adorable 💘\nUndefined location\nRT @BoozAllen: .@Target's Brad Maiorino, @BoozAllen's @waphelps &amp; Mike McConnell discuss the Rise of Cyber Fusion Centers: https://t.co/hWX…\nUndefined location\n@abc7newsbayarea @santos95660 same inspectors that said Oroville was good?\nUndefined location\nRT @ChicoWildcats: 6 🥅, 30 ⚽️, and a couple of hours.\n@ChicoMensSoccer had little to give #OrovilleSpillway evacuees. They gave anyway. htt…\nUndefined location\nRT @NYTNational: Crews work to lower water in Oroville dam as more rain moves in. https://t.co/lzbmBZOFrt https://t.co/OAjRH2YO5c\nUndefined location\nRT @Krazygio: she dun sucked my dick so dam good she left me retarded https://t.co/i0RQCMXPSo\nUndefined location\nRT @KPBSMidday: Oroville dam emergency puts spotlight on California's dams. \nhttps://t.co/X23heQy5wH https://t.co/uJtKlLl2MG\nUndefined location\nRT @latimesopinion: Dams are like loaded weapons. Oroville could be the first disaster of many to come https://t.co/himf6jAZZN https://t.co…\nUndefined location\nRT @StanfordEnergy: What California’s #Oroville dam crisis says about changing #climate. @NYTimes OpEd by @Stanford's Noah Diffenbaugh: htt…\nUndefined location\n\"Oroville Is a Warning for California Dams, as Climate Change Adds Stress\" by ADAM NAGOURNEY and HENRY FOUNTAIN vi… https://t.co/5jAmTuCSrd\nUndefined location\n\"Oroville Dam Crews Prepare for More Rain as Evacuees Return Home\" by JESS BIDGOOD via NYT https://t.co/c0WsOEyriW\nUndefined location\nThis is the oroville dam watershed... uh oh https://t.co/kRC0UPIhJs\nUndefined location\nExotic animals abandoned as owners flee California dam catastrophe https://t.co/Ibb4r8uOTo https://t.co/Y9xSJEagGe\nUndefined location\nRT @TDSIanJames: CA's water system \"was designed for a climate we no longer have.\" More extreme weather events will test its limits. https:…\nUndefined location\n@illegvls dam you fucked\nUndefined location\nWhy does Dam View still have Jingle Java 😂😂\nUndefined location\nOroville Dam isn’t the only piece of California flood infrastructure under strain https://t.co/ntvl3kVj41\nUndefined location\n@RollinsIsWWE Dam, I'm doing good tonight! Lol! 😊\nUndefined location\n[REPORT] Origin Energy $ORG post a large loss of $1.68bn due to write offs in half year report… https://t.co/WzUqFEnLDL\nUndefined location\nRT @Young_0080: I am the happiest person alive but dam when depression hits me, that shit hits me hard af. I go from 100-0 in a matter of s…\nUndefined location\nThe #Camanche Dam and Reservoir is more than 90 percent full. Inspectors say... https://t.co/3yJZppsVSZ by #abc7newsbayarea via @c0nvey\nUndefined location\nRT @jackiesheldon: RT @MelodyGutierrez: Oroville’s homeless felt stranded during #Orovilledam #spillway evacuation https://t.co/xQYwwq1si6…\nUndefined location\nI liked a @YouTube video https://t.co/ltGwKyOh0B Vajont Dam Collapse - Italian Dam Disaster Killing Thousands\nUndefined location\nRT @Unexplained: The excavation of a cave, during work on the Belo Monte Dam in Pará, unearthed a snake weighing 900 pounds and measuring 3…\nUndefined location\nDaM BaE https://t.co/100TtnGU7q\nUndefined location\n@cardosalejandra dam u replied fast af\nUndefined location\n@SloppyYellow Fire you, &amp; fire all of @UnDamRestricted #OnlyOneNation  Nation thing started with @DaleJr &amp; it's about dam time everyone knew\nUndefined location\nRT @latimes: Following their faith, Sikhs opened their temple doors to Oroville Dam evacuees — and strangers came pouring in https://t.co/o…\nUndefined location\nRT @MelodyGutierrez: Oroville’s homeless felt stranded during #Orovilledam #spillway evacuation https://t.co/xQYwwq1si6 via @sfchronicle\nUndefined location\nRT @RonanForDNC: Please pay attention to the #OrovilleSpillway #orivilledam situation and be thinking about how we help. https://t.co/BPnBk…\nUndefined location\nSanta Clara County's largest dam on cusp of spilling over - Santa Clara County’s largest dam on cusp of... https://t.co/1mw5WlQpJR\nUndefined location\nRT @Ashhhink: Dam her lashes longer than my ex niggas dick 🤔 https://t.co/TmrB4avtgs\nUndefined location\nCamanche Dam and Reservoir pass inspection in San Joaqin Valley https://t.co/08YjQKLBuK (VIDEO)\nUndefined location\nRT @Merced_Calif: How #Oroville went from #drought to an overflowing dam in just two years https://t.co/lnzQ7EMBas #OrovilleDam #climatecha…\nUndefined location\nI need that record  without Bizkit dam drop !\nUndefined location\n@DeadDigitizer dam\nUndefined location\nRT @nytimes: A lesson from the Oroville crisis: Climate change is an unexpected challenge to California dams https://t.co/f9dSj4kKRd\nUndefined location\nRT @iamaishaladon: I'm in Sac tonight, but I'm having trouble sleeping. Praying for my Yuba, Marysville and Oroville Neighbors that went ba…\nUndefined location\nRT @ResearchCP: The other giant dam in Northern California... Shasta Dam sees biggest release in decades https://t.co/9efVhcUWKQ via @SFGate\nUndefined location\nRT @tmillennialpost: Lake Oroville Emergency Spillway Repair, February 14th 2017. #TMPNews #California #LakeOroville #Dam #Emergency https:…\nUndefined location\nRT @SteveWorks4You: Gov. Brown is asking Trump (you) to pay for the dam repair. California spends $25 Billion a Year on Illegals Instead of…\nUndefined location\nRT @SteveWorks4You: Gov. Brown is asking Trump (you) to pay for the dam repair. California spends $25 Billion a Year on Illegals Instead of…\nUndefined location\nRT @TDSIanJames: \"They could have studied the 21st century range of climate a lot better than they did” #OrovilleDam &amp; #climatechange https…\nUndefined location\n@ullyocho Thanks for taking care of friends in Oroville Man, I appreciate what ya'll doin out there!\nUndefined location\n@cspanwj \nhttps://t.co/6KFSr8dR5U\nCalifornia spent on high-speed rail and illegal immigrants, but ignored Oroville Dam\nUndefined location\nRT @WashTimes: California budget for high-speed rail and illegal immigrants, but ignored #OrovilleDam - @washtimes @CAgovernment https://t.…\nUndefined location\nRT @steph93065: Yeah...I remember watching a panel about this on CNN\n\nJoking...never heard a dam thing about it\nhttps://t.co/jwQimDmUQ4 htt…\nUndefined location\nRT @Italians4Trump: TRUMP APPROVES FEDERAL EMERGENCY AID FOR OROVILLE…\n https://t.co/yQyGv9oXtL\nUndefined location\nRT @syqau: Panicked, Angry Residents Sit In Gridlock For Hours... https://t.co/8FqxEo82Bg\nUndefined location\n@Weather_West @RedwoodGirl the dam itself is in no danger of falling. the emergency spillway is jacked some and the main spillway some.\nUndefined location\nWhen you know dam well you shouldn't be thinking about someone, but you thinking about they ugly ass😩\nUndefined location\nRT @_CFILC: OROVILLE SPILLWAY EVACUATION &amp; SHELTER HELPLINE for People with Disabilities and Seniors: (843) 817-2651\n#orovilleflood #cafloo…\nUndefined location\nRT @NewssTrump: Post-Emergency Report Concludes: CA Governor Directed Critical Dam Funds To Programs For Illegals https://t.co/a17vSy7qbV h…\nUndefined location\nRT @Cal_OES: Show us your #PrepKit or #GoBag. If you had one for the #Oroville evacuation we'd love to see it. Post your pic &amp; tag it #Orov…\nUndefined location\nI'm in Sac tonight, but I'm having trouble sleeping. Praying for my Yuba, Marysville and Oroville Neighbors that went back. #OrovilleDam\nUndefined location\nRT @KCRALuery: Crews make progress repairing spillway at Lake Oroville https://t.co/nL8CcBCVJN\nUndefined location\n@Pahseeta dam me first your to cool and it won't let me message you blood\nUndefined location\n😂😂😂😂 dam they tossing the zen master around like a rag doll https://t.co/gM9xlwWIQX\nUndefined location\nRT @GreenwireJeremy: Locals are still skeptical of the dam's infrastructure, but officials say they've dodged a bullet. https://t.co/pr1Raw…\nUndefined location\nMy dam foot feels numb\nUndefined location\nWe in the god dam ride but she lookin god dam fine.\nUndefined location\nRT @latimesopinion: Dams are like loaded weapons. Oroville could be the first disaster of many to come https://t.co/himf6jAZZN https://t.co…\nUndefined location\n😳Oroville Dam, for 1st time in history, uses emergency spillway https://t.co/gRa2mPOUW3 https://t.co/GX9LuMU8Fn\nUndefined location\nHow did @razibkhan not tweet this? The Oroville Dam crises has distracted his hippie Davis https://t.co/rbGXWKa78j\nUndefined location\nRT @prageru: Wasn't it like 1 year ago when you said climate change was making it never rain again in California? https://t.co/1y24yht8vg\nUndefined location\nRT @NewssTrump: Post-Emergency Report Concludes: CA Governor Directed Critical Dam Funds To Programs For Illegals https://t.co/a17vSy7qbV h…\nUndefined location\nRT @98taylorm98: @shelbyboles BABAY MAMA!!! GOT DAM\nUndefined location\nTrump supporter evacuated from California flood area: 'I feel like a refugee' https://t.co/HOKH7Bxf5C\nUndefined location\nRT @NewssTrump: Post-Emergency Report Concludes: CA Governor Directed Critical Dam Funds To Programs For Illegals https://t.co/a17vSy7qbV h…\nUndefined location\nThe stunning destruction at Oroville Dam and the work ahead https://t.co/dYsxexwsYa\nUndefined location\nBroken #OrovilleDam Is a Sign of Emergencies to Come https://t.co/OEDm0jMaUL #climate #climatechange\nUndefined location\nWhat California’s #OrovilleDam Crisis Says About the Changing #Climate https://t.co/FeSanEgU6r #climatechange\nUndefined location\nHow #Oroville went from #drought to an overflowing dam in just two years https://t.co/lnzQ7EMBas #OrovilleDam #climatechange #CAdrought\nUndefined location\nRT @Ethiopia_UN: @EthiopiaForward: #Ethiopia's Grand Renaissance Dam: &gt;32% done! The biggest hydro-dam [6,000 MW] in #Africa! \n http://t.co…\nUndefined location\nRT @NYTNational: Crews work to lower water in Oroville dam as more rain moves in. https://t.co/lzbmBZOFrt https://t.co/OAjRH2YO5c\nUndefined location\nRT @henryfountain: Some context on the crisis up on the Feather River: https://t.co/ZMPIRzfyii\nUndefined location\nDam they said OKC a d-league team w/o Russ 🐐🖕\nUndefined location\n@Lashe_Day dam lol\nUndefined location\nRT @samantha21___: Dam I had a good practice\nUndefined location\n2/15/2017 — Nightly Earthquake Update + Forecast — Earthquakes at Oroville Dam California https://t.co/h5MCOx96cs\nUndefined location\nRT @Super_Sena: Oroville people as soon as the first rain drop hits today be like: https://t.co/8jGBU9BQtn\nUndefined location\nRT @AgrawalNina: #Sikh temple became unexpected temporary home for #OrovilleDam evacuees: https://t.co/bHcS3YdkN7 via @jaweedkaleem\nUndefined location\n@shelbyboles BABAY MAMA!!! GOT DAM\nUndefined location\nThe Democrats don't give a dam about anyone else except themselves. There against the middle-class and poor! https://t.co/EmIthKBtfN\nUndefined location\nRT @MelodyGutierrez: Oroville’s homeless felt stranded during #Orovilledam #spillway evacuation https://t.co/6AHX5ZaS07 via @sfchronicle\nUndefined location\n@robbymassey dam u talk to @beckymgarcia that's tight how'd u swing that\nUndefined location\nIlluminati Exposed in Simpsons: Simpsons say the dam will break 1 minute pass sunrise!  https://t.co/zXqlMhRbgw\nUndefined location\nRT @Young_0080: I am the happiest person alive but dam when depression hits me, that shit hits me hard af. I go from 100-0 in a matter of s…\nUndefined location\nDrip, drip, drip it goes until the dam breaks and the truth spills. https://t.co/W5JK7bDe08\n#ATeamOfLiars\nUndefined location\n@RonWyden you are a Dam Coward and a big wussy put a p in place of W that's whAt u r Hog jowels !!!, https://t.co/PvKOzogJwk  idiot\nUndefined location\n"
     ]
    }
   ],
   "source": [
    "import tweepy\n",
    "#from textblob import TextBlob\n",
    "import sys\n",
    "from pygeocoder import Geocoder\n",
    "import pandas as pd\n",
    "import numpy as np\n",
    "\n",
    "#twitter_api_keys\n",
    "\n",
    "from twitter_api_keys import consumer_key, consumer_secret, access_token, access_secret\n",
    "\n",
    "auth = tweepy.OAuthHandler(consumer_key,consumer_secret)\n",
    "auth.set_access_token(access_token,access_secret)\n",
    "\n",
    "api = tweepy.API(auth)\n",
    "\n",
    "max_tweets = 300\n",
    "oroville = \"40,-121.0,50mi\"\n",
    "CONUS = '39.8,-95.58,2500km'\n",
    "public_tweets = api.search(q= \"dam OR Oroville -damn\",geocode = CONUS, count = 300)\n",
    "\n",
    "for tweet in public_tweets:\n",
    "        print(tweet.text)\n",
    "        print(tweet.location if hasattr(tweet, 'location') else \"Undefined location\")\n",
    "        if hasattr(tweet, 'location'):\n",
    "            print(tweet.location)\n",
    "        if tweet.coordinates != None:\n",
    "            print(tweet.coordinates)\n",
    "         \n",
    "# df = pd.DataFrame.fr        \n",
    "#     analysis = TextBlob(tweet.text)\n",
    "#     print(analysis.sentiment)\n",
    "\n",
    "# class CustomStreamListener(tweepy.StreamListener):\n",
    "#     def on_status(self, status):\n",
    "#         if 'dam' in status.text.lower():\n",
    "#             print(status.text)\n",
    "# \n",
    "#     def on_error(self, status_code):\n",
    "#         print >> sys.stderr, 'Encountered error with status code:', status_code\n",
    "#         return True # Don't kill the stream\n",
    "# \n",
    "#     def on_timeout(self):\n",
    "#         print >> sys.stderr, 'Timeout...'\n",
    "#         return True # Don't kill the stream\n",
    "# \n",
    "# sapi = tweepy.streaming.Stream(auth, CustomStreamListener())\n",
    "# geo_tweets = sapi.filter(locations=[-124.482003,32.528832,-114.131211,42.0095169])\n",
    "# \n",
    "# \n",
    "# for tweet in geo_tweets:\n",
    "#     print(tweet.text)"
   ]
  },
  {
   "cell_type": "code",
   "execution_count": 60,
   "metadata": {},
   "outputs": [
    {
     "data": {
      "text/plain": [
       "tweepy.models.SearchResults"
      ]
     },
     "execution_count": 60,
     "metadata": {},
     "output_type": "execute_result"
    }
   ],
   "source": [
    "len(public_tweets)\n",
    "type(public_tweets)"
   ]
  },
  {
   "cell_type": "code",
   "execution_count": 66,
   "metadata": {},
   "outputs": [
    {
     "name": "stdout",
     "output_type": "stream",
     "text": [
      "Los Angeles\n"
     ]
    },
    {
     "data": {
      "text/plain": [
       "(34.0522342, -118.2436849)"
      ]
     },
     "execution_count": 66,
     "metadata": {},
     "output_type": "execute_result"
    }
   ],
   "source": [
    "## obtain locations from user profile\n",
    "user_loc = public_tweets[0].user.location\n",
    "print(user_loc  )\n",
    "Geocoder.geocode(user_loc).coordinates"
   ]
  },
  {
   "cell_type": "code",
   "execution_count": 14,
   "metadata": {},
   "outputs": [
    {
     "data": {
      "text/plain": [
       "Status(_api=<tweepy.api.API object at 0x10a35cb70>, _json={'created_at': 'Tue Feb 14 23:58:25 +0000 2017', 'id': 831653858883440640, 'id_str': '831653858883440640', 'text': 'Re: Power plnt. \"Possibility of renewing evacuation &amp; of a possible event is very real\" - @ScottPCahill https://t.co/K3fQgyXTVW #OrovilleDam', 'truncated': False, 'entities': {'hashtags': [{'text': 'OrovilleDam', 'indices': [132, 144]}], 'symbols': [], 'user_mentions': [{'screen_name': 'ScottPCahill', 'name': 'Scott Cahill', 'id': 3419947149, 'id_str': '3419947149', 'indices': [94, 107]}], 'urls': [{'url': 'https://t.co/K3fQgyXTVW', 'expanded_url': 'https://www.peakprosperity.com/comment/204055#comment-204055', 'display_url': 'peakprosperity.com/comment/204055…', 'indices': [108, 131]}]}, 'metadata': {'iso_language_code': 'en', 'result_type': 'recent'}, 'source': '<a href=\"http://twitter.com\" rel=\"nofollow\">Twitter Web Client</a>', 'in_reply_to_status_id': 831534874251165698, 'in_reply_to_status_id_str': '831534874251165698', 'in_reply_to_user_id': 3419947149, 'in_reply_to_user_id_str': '3419947149', 'in_reply_to_screen_name': 'ScottPCahill', 'user': {'id': 829910052165320705, 'id_str': '829910052165320705', 'name': 'Oroville Dam', 'screen_name': 'Oroville_Dam', 'location': 'Oroville, CA', 'description': 'Unofficial - Info about the Oroville Dam Crisis', 'url': 'https://t.co/ZdkIuFn3oy', 'entities': {'url': {'urls': [{'url': 'https://t.co/ZdkIuFn3oy', 'expanded_url': 'https://www.reddit.com/r/orovilledam/new/', 'display_url': 'reddit.com/r/orovilledam/…', 'indices': [0, 23]}]}, 'description': {'urls': []}}, 'protected': False, 'followers_count': 1253, 'friends_count': 1816, 'listed_count': 15, 'created_at': 'Fri Feb 10 04:29:10 +0000 2017', 'favourites_count': 0, 'utc_offset': -28800, 'time_zone': 'Pacific Time (US & Canada)', 'geo_enabled': False, 'verified': False, 'statuses_count': 936, 'lang': 'en', 'contributors_enabled': False, 'is_translator': False, 'is_translation_enabled': False, 'profile_background_color': 'F5F8FA', 'profile_background_image_url': None, 'profile_background_image_url_https': None, 'profile_background_tile': False, 'profile_image_url': 'http://pbs.twimg.com/profile_images/830670276408987648/jWmRnBua_normal.jpg', 'profile_image_url_https': 'https://pbs.twimg.com/profile_images/830670276408987648/jWmRnBua_normal.jpg', 'profile_banner_url': 'https://pbs.twimg.com/profile_banners/829910052165320705/1486881987', 'profile_link_color': '1DA1F2', 'profile_sidebar_border_color': 'C0DEED', 'profile_sidebar_fill_color': 'DDEEF6', 'profile_text_color': '333333', 'profile_use_background_image': True, 'has_extended_profile': True, 'default_profile': True, 'default_profile_image': False, 'following': False, 'follow_request_sent': False, 'notifications': False, 'translator_type': 'none'}, 'geo': None, 'coordinates': None, 'place': None, 'contributors': None, 'is_quote_status': False, 'retweet_count': 0, 'favorite_count': 1, 'favorited': False, 'retweeted': False, 'possibly_sensitive': False, 'lang': 'en'}, created_at=datetime.datetime(2017, 2, 14, 23, 58, 25), id=831653858883440640, id_str='831653858883440640', text='Re: Power plnt. \"Possibility of renewing evacuation &amp; of a possible event is very real\" - @ScottPCahill https://t.co/K3fQgyXTVW #OrovilleDam', truncated=False, entities={'hashtags': [{'text': 'OrovilleDam', 'indices': [132, 144]}], 'symbols': [], 'user_mentions': [{'screen_name': 'ScottPCahill', 'name': 'Scott Cahill', 'id': 3419947149, 'id_str': '3419947149', 'indices': [94, 107]}], 'urls': [{'url': 'https://t.co/K3fQgyXTVW', 'expanded_url': 'https://www.peakprosperity.com/comment/204055#comment-204055', 'display_url': 'peakprosperity.com/comment/204055…', 'indices': [108, 131]}]}, metadata={'iso_language_code': 'en', 'result_type': 'recent'}, source='Twitter Web Client', source_url='http://twitter.com', in_reply_to_status_id=831534874251165698, in_reply_to_status_id_str='831534874251165698', in_reply_to_user_id=3419947149, in_reply_to_user_id_str='3419947149', in_reply_to_screen_name='ScottPCahill', author=User(_api=<tweepy.api.API object at 0x10a35cb70>, _json={'id': 829910052165320705, 'id_str': '829910052165320705', 'name': 'Oroville Dam', 'screen_name': 'Oroville_Dam', 'location': 'Oroville, CA', 'description': 'Unofficial - Info about the Oroville Dam Crisis', 'url': 'https://t.co/ZdkIuFn3oy', 'entities': {'url': {'urls': [{'url': 'https://t.co/ZdkIuFn3oy', 'expanded_url': 'https://www.reddit.com/r/orovilledam/new/', 'display_url': 'reddit.com/r/orovilledam/…', 'indices': [0, 23]}]}, 'description': {'urls': []}}, 'protected': False, 'followers_count': 1253, 'friends_count': 1816, 'listed_count': 15, 'created_at': 'Fri Feb 10 04:29:10 +0000 2017', 'favourites_count': 0, 'utc_offset': -28800, 'time_zone': 'Pacific Time (US & Canada)', 'geo_enabled': False, 'verified': False, 'statuses_count': 936, 'lang': 'en', 'contributors_enabled': False, 'is_translator': False, 'is_translation_enabled': False, 'profile_background_color': 'F5F8FA', 'profile_background_image_url': None, 'profile_background_image_url_https': None, 'profile_background_tile': False, 'profile_image_url': 'http://pbs.twimg.com/profile_images/830670276408987648/jWmRnBua_normal.jpg', 'profile_image_url_https': 'https://pbs.twimg.com/profile_images/830670276408987648/jWmRnBua_normal.jpg', 'profile_banner_url': 'https://pbs.twimg.com/profile_banners/829910052165320705/1486881987', 'profile_link_color': '1DA1F2', 'profile_sidebar_border_color': 'C0DEED', 'profile_sidebar_fill_color': 'DDEEF6', 'profile_text_color': '333333', 'profile_use_background_image': True, 'has_extended_profile': True, 'default_profile': True, 'default_profile_image': False, 'following': False, 'follow_request_sent': False, 'notifications': False, 'translator_type': 'none'}, id=829910052165320705, id_str='829910052165320705', name='Oroville Dam', screen_name='Oroville_Dam', location='Oroville, CA', description='Unofficial - Info about the Oroville Dam Crisis', url='https://t.co/ZdkIuFn3oy', entities={'url': {'urls': [{'url': 'https://t.co/ZdkIuFn3oy', 'expanded_url': 'https://www.reddit.com/r/orovilledam/new/', 'display_url': 'reddit.com/r/orovilledam/…', 'indices': [0, 23]}]}, 'description': {'urls': []}}, protected=False, followers_count=1253, friends_count=1816, listed_count=15, created_at=datetime.datetime(2017, 2, 10, 4, 29, 10), favourites_count=0, utc_offset=-28800, time_zone='Pacific Time (US & Canada)', geo_enabled=False, verified=False, statuses_count=936, lang='en', contributors_enabled=False, is_translator=False, is_translation_enabled=False, profile_background_color='F5F8FA', profile_background_image_url=None, profile_background_image_url_https=None, profile_background_tile=False, profile_image_url='http://pbs.twimg.com/profile_images/830670276408987648/jWmRnBua_normal.jpg', profile_image_url_https='https://pbs.twimg.com/profile_images/830670276408987648/jWmRnBua_normal.jpg', profile_banner_url='https://pbs.twimg.com/profile_banners/829910052165320705/1486881987', profile_link_color='1DA1F2', profile_sidebar_border_color='C0DEED', profile_sidebar_fill_color='DDEEF6', profile_text_color='333333', profile_use_background_image=True, has_extended_profile=True, default_profile=True, default_profile_image=False, following=False, follow_request_sent=False, notifications=False, translator_type='none'), user=User(_api=<tweepy.api.API object at 0x10a35cb70>, _json={'id': 829910052165320705, 'id_str': '829910052165320705', 'name': 'Oroville Dam', 'screen_name': 'Oroville_Dam', 'location': 'Oroville, CA', 'description': 'Unofficial - Info about the Oroville Dam Crisis', 'url': 'https://t.co/ZdkIuFn3oy', 'entities': {'url': {'urls': [{'url': 'https://t.co/ZdkIuFn3oy', 'expanded_url': 'https://www.reddit.com/r/orovilledam/new/', 'display_url': 'reddit.com/r/orovilledam/…', 'indices': [0, 23]}]}, 'description': {'urls': []}}, 'protected': False, 'followers_count': 1253, 'friends_count': 1816, 'listed_count': 15, 'created_at': 'Fri Feb 10 04:29:10 +0000 2017', 'favourites_count': 0, 'utc_offset': -28800, 'time_zone': 'Pacific Time (US & Canada)', 'geo_enabled': False, 'verified': False, 'statuses_count': 936, 'lang': 'en', 'contributors_enabled': False, 'is_translator': False, 'is_translation_enabled': False, 'profile_background_color': 'F5F8FA', 'profile_background_image_url': None, 'profile_background_image_url_https': None, 'profile_background_tile': False, 'profile_image_url': 'http://pbs.twimg.com/profile_images/830670276408987648/jWmRnBua_normal.jpg', 'profile_image_url_https': 'https://pbs.twimg.com/profile_images/830670276408987648/jWmRnBua_normal.jpg', 'profile_banner_url': 'https://pbs.twimg.com/profile_banners/829910052165320705/1486881987', 'profile_link_color': '1DA1F2', 'profile_sidebar_border_color': 'C0DEED', 'profile_sidebar_fill_color': 'DDEEF6', 'profile_text_color': '333333', 'profile_use_background_image': True, 'has_extended_profile': True, 'default_profile': True, 'default_profile_image': False, 'following': False, 'follow_request_sent': False, 'notifications': False, 'translator_type': 'none'}, id=829910052165320705, id_str='829910052165320705', name='Oroville Dam', screen_name='Oroville_Dam', location='Oroville, CA', description='Unofficial - Info about the Oroville Dam Crisis', url='https://t.co/ZdkIuFn3oy', entities={'url': {'urls': [{'url': 'https://t.co/ZdkIuFn3oy', 'expanded_url': 'https://www.reddit.com/r/orovilledam/new/', 'display_url': 'reddit.com/r/orovilledam/…', 'indices': [0, 23]}]}, 'description': {'urls': []}}, protected=False, followers_count=1253, friends_count=1816, listed_count=15, created_at=datetime.datetime(2017, 2, 10, 4, 29, 10), favourites_count=0, utc_offset=-28800, time_zone='Pacific Time (US & Canada)', geo_enabled=False, verified=False, statuses_count=936, lang='en', contributors_enabled=False, is_translator=False, is_translation_enabled=False, profile_background_color='F5F8FA', profile_background_image_url=None, profile_background_image_url_https=None, profile_background_tile=False, profile_image_url='http://pbs.twimg.com/profile_images/830670276408987648/jWmRnBua_normal.jpg', profile_image_url_https='https://pbs.twimg.com/profile_images/830670276408987648/jWmRnBua_normal.jpg', profile_banner_url='https://pbs.twimg.com/profile_banners/829910052165320705/1486881987', profile_link_color='1DA1F2', profile_sidebar_border_color='C0DEED', profile_sidebar_fill_color='DDEEF6', profile_text_color='333333', profile_use_background_image=True, has_extended_profile=True, default_profile=True, default_profile_image=False, following=False, follow_request_sent=False, notifications=False, translator_type='none'), geo=None, coordinates=None, place=None, contributors=None, is_quote_status=False, retweet_count=0, favorite_count=1, favorited=False, retweeted=False, possibly_sensitive=False, lang='en')"
      ]
     },
     "execution_count": 14,
     "metadata": {},
     "output_type": "execute_result"
    }
   ],
   "source": [
    "public_tweets[0]"
   ]
  },
  {
   "cell_type": "code",
   "execution_count": 68,
   "metadata": {},
   "outputs": [
    {
     "ename": "ModuleNotFoundError",
     "evalue": "No module named 'dstk'",
     "traceback": [
      "\u001b[0;31m---------------------------------------------------------------------------\u001b[0m",
      "\u001b[0;31mModuleNotFoundError\u001b[0m                       Traceback (most recent call last)",
      "\u001b[0;32m<ipython-input-68-750c28ecf6f7>\u001b[0m in \u001b[0;36m<module>\u001b[0;34m()\u001b[0m\n\u001b[0;32m----> 1\u001b[0;31m \u001b[0;32mimport\u001b[0m \u001b[0mdstk\u001b[0m\u001b[0;34m\u001b[0m\u001b[0m\n\u001b[0m\u001b[1;32m      2\u001b[0m \u001b[0mdstk\u001b[0m \u001b[0;34m=\u001b[0m \u001b[0mdstk\u001b[0m\u001b[0;34m.\u001b[0m\u001b[0mDSTK\u001b[0m\u001b[0;34m(\u001b[0m\u001b[0;34m)\u001b[0m\u001b[0;34m\u001b[0m\u001b[0m\n\u001b[1;32m      3\u001b[0m \u001b[0mdstk\u001b[0m\u001b[0;34m.\u001b[0m\u001b[0mstreet2coordinates\u001b[0m\u001b[0;34m(\u001b[0m\u001b[0;34m'Los Angeles, CA'\u001b[0m\u001b[0;34m)\u001b[0m\u001b[0;34m\u001b[0m\u001b[0m\n",
      "\u001b[0;31mModuleNotFoundError\u001b[0m: No module named 'dstk'"
     ],
     "output_type": "error"
    }
   ],
   "source": [
    ""
   ]
  },
  {
   "cell_type": "code",
   "execution_count": null,
   "metadata": {},
   "outputs": [],
   "source": [
    ""
   ]
  }
 ],
 "metadata": {
  "kernelspec": {
   "display_name": "Python 2",
   "language": "python",
   "name": "python2"
  },
  "language_info": {
   "codemirror_mode": {
    "name": "ipython",
    "version": 2.0
   },
   "file_extension": ".py",
   "mimetype": "text/x-python",
   "name": "python",
   "nbconvert_exporter": "python",
   "pygments_lexer": "ipython2",
   "version": "2.7.6"
  }
 },
 "nbformat": 4,
 "nbformat_minor": 0
}