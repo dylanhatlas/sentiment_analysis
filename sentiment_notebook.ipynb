{
 "cells": [
  {
   "cell_type": "code",
   "execution_count": 51,
   "metadata": {
    "collapsed": true
   },
   "outputs": [
    {
     "name": "stdout",
     "output_type": "stream",
     "text": [
      "True ssssoo dam true. Ya QB was garbage thats why jags had that record. 90% of jags loses was BB5 &amp; Gus fault...PER… https://t.co/EhGl7FYHyY\nSikhs opened their temple doors to Oroville Dam evacuees. Strangers came pouring in. https://t.co/VXLDMhUVZ2\nActually NO he needs not to fix this Dam!! The dam is a State Dam and Gov Brown needs to be a big boy and put... https://t.co/z7ZKtZz7KB\nRT @ConnectingTrue: In my #notrealworld :  NO #BCHydro  #SiteC dam project =  NO forced expropriation of @ArleneBoon  family this spring ht…\n#POTUS @realDonaldTrump Approves Emergency #OrovilleDam Relief Funds https://t.co/lFKFAP7WcL @joelpollak #tcot #p2… https://t.co/9Umlsw8eYf\nThousands of ppl are living in shelters from Oroville Dam crisis. You can help them. Give @ https://t.co/bRS86IbQGz… https://t.co/X9czEkCS5X\nThousands of ppl are living in shelters from Oroville Dam crisis. You can help them. Give @ https://t.co/p07Hmwp5bF… https://t.co/9ONhpx5VEi\nImma bitch , I never meant shit, lemme lone. I wish y'all the best. The end. Dam.....\nRT @daxtonbrown: Build That Oroville Spillway! https://t.co/zDOzCOATuT\nIf Trump wants to make America great again, he can start by fixing the Oroville Dam https://t.co/1ReRl472Uk via @YahooNews\nRT @TDSIanJames: Two California counties have been waging a legal fight over how @CA_DWR manages #OrovilleDam https://t.co/BRlzbKpcUV\nRT @AIIAmericanGirI: California Governor Spends $25 Billion Per Year On Illegals, Officials Warned Dam Failing 12 Years Ago\nhttps://t.co/MY…\nDespite Dam Danger, California’s Still In a Drought\n\nhttps://t.co/OyY0KZfxhw\nSan Diego trends now: Oroville, Flynn, Valentine's Day, Chargers, Russia. https://t.co/H1ZzAnADJt\n{'type': 'Point', 'coordinates': [-117.16627197, 32.7143122]}\n45 said he would fix infrastructure.There's a compromised dam and people in Cali that need Fed help.Where u at?  #DumpTrump #HoldAccountable\nMaybe you should remind your Governor first\nhttps://t.co/40euxIW4fO https://t.co/0g6G1d8csX\n1st step to empathy!&gt;Trump supporter evacuated from #OrovilleDam, aided by #Sikhs: 'I feel like a #refugee'… https://t.co/4Q7eCSGpb5\nRT @CNNEE: El 'muro de agua' que amenaza a los residentes de California cerca de la represa Oroville https://t.co/4scfEeT21x https://t.co/v…\nRT @BoozAllen: Just in time for #RSAC2017: \"10 #Cyber Priorities for Boards of Directors\" by @waphelps https://t.co/4XkHnyOtZl  #cybersecur…\nRT @NewsRevoltRyan: California Governor Spends $25 Billion Per Year On Illegals, Officials Warned Dam Failing 12 Years Ago https://t.co/VbS…\n@aza_ev  Oroville is in the section that voted for Trump.\nOroville Dam Evacuees Given Green Light to Return #businessnews https://t.co/OEO9U2NUix\n@ShellenbergerMD Mosul Dam in Northern Iraq has a high chance of killing about 2 million people https://t.co/wcXBNubEDC\nRT @BoozAllen: Just in time for #RSAC2017: \"10 #Cyber Priorities for Boards of Directors\" by @waphelps https://t.co/4XkHnyOtZl  #cybersecur…\nRT @doctorow: Vindictive Trump dragged on providing aid to 188,000 Americans displaced by Oroville dam crisis\nhttps://t.co/X3LWE0Pnjl https…\nRT @MavensNotebook: All the morning's #Oroville dam news plus Temp mgt plan could cut yield from Shasta, more #cawater news https://t.co/42…\nOroville Dam: Residents Hesitate to Return After Evacuation Orders Partially Lifted — With Rain on the Way\nDam I miss my nigga 💔💔💔\nOroville Dam: Crews race to reinforce spillway before storms arrive late Wednesday https://t.co/BPx6jhsqtF\nRT @RonPaul: Who Will Be Blamed if the Oroville Dam Fails? https://t.co/OtqIQvPUCy https://t.co/XK9xRhe6zg\nRT @imraansiddiqi: You don't say?\nhttps://t.co/QCD0M5z4Nf https://t.co/Wn5JWEtZWX\n@AndrewRomano or instead of spending $25 billion on supporting illegal immigrants, Gov. Brown could actually spend money on a CA dam. Hack!\n200K Californians were told they could return home but may have to flee again if Oroville Dam spillways don't hold. https://t.co/CCIIKdxhjr\nRT @Capochino67: edaccessibleFive Facts About the Oroville Dam \n  https://t.co/CteuK2IeWI\n   #video #news https://t.co/zup2JGmfs2\nRT @Italians4Trump: TRUMP APPROVES FEDERAL EMERGENCY AID FOR OROVILLE…\n https://t.co/yQyGv9oXtL\nRT @AmandaFike1982: Oroville Dam Evacuations Lifted As Officials Say Structure Can Withstand Next Storm https://t.co/nLGxGPbfml\nAll the morning's #Oroville dam news plus Temp mgt plan could cut yield from Shasta, more #cawater news https://t.co/42UWMHvCs7\nBC Oil and Gas Commission, The (Fort St. John BC): \"governments and private individuals. to… https://t.co/NqFe4sI1WV #government #jobs\nRT @TDSIanJames: Years before dam crisis, critics saw risks in design flaws, maintenance problems, failure to plan for climate change https…\n2.15.2017 Good News Via @NPR: #OrovilleDam Evacuations Lifted As Officials Say Structure Can Withstand Next Storm https://t.co/z53L4saA6h\nRT @profpinto: Oroville Is a Warning for California Dams, as Climate Change Adds Stress https://t.co/J3ifiYyt7p\n@lynlyn_linh yêu nhau là trẩu cùng nhau trứ 40t luynh có dám bảo là ko đi đu trai cùng pụ ko? 😍\nRT @DailyMail: Oroville residents return home after evacuation order https://t.co/W9EcSkIeHV https://t.co/5it8fixlGI\n▶▶\"OroVille Dam\" 11 Secrets They Are Not Telling You. PLUS Video Footage... https://t.co/wXEJ1DEvsK\nJust in time for #RSAC2017: \"10 #Cyber Priorities for Boards of Directors\" by @waphelps https://t.co/4XkHnyOtZl… https://t.co/lCiY4OKyMe\nDam Safety Officer and Integrity Engineer: BC Oil and Gas Commission, The (Fort St. John BC): \"software and field… https://t.co/KuTVbLlydd\nTrump Approves Federal Emergency Aid for Oroville https://t.co/vSpZ8gXwf5 #tcot\nOroville dam crisis: How we got to this point, and could it have been prevented? https://t.co/3VceXLX6uR - Yes\nRT @KTVZ: As Red Cross shelters near Oroville Dam stay open, training set in Bend Thursday for interested disaster volunteers https://t.co/…\nBuild That Oroville Spillway! https://t.co/zDOzCOATuT\nTrump supporter evacuated from Oroville dam: 'I feel like a refugee' https://t.co/5axKzHmF5d\nRT @latimes: Residents return, but Oroville Dam dangers remain as new storm approaches https://t.co/fQFFq3XdR7 https://t.co/Lk8Svu6KqS\nUpdate: \"Orville Dam 7 Days Of Rain Coming\" https://t.co/SAXruMPO2o\nRT @chu_bands: Dam I'm handsome asfck 🤔😆\nRT @NPR: Oroville Dam Evacuations Lifted As Officials Say Structure Can Withstand Next Storm https://t.co/10HkWyR2ki\nRT @kwilli1046: California Spent On High-Speed Rail And Illegal Immigrants, But Ignored Oroville Dam https://t.co/Yd0r9I6fac via @weaselzip…\nJODYHiGHROLLER: DAM THiS SHiT iS SOME iNSPiRATiONAL BALLER BARS 🔥🏄🏼🔥MikeWiLLMadeIt RaeSremmurd raesremmurd's video https://t.co/iFacNG5bw2\nThe stunning destruction at Oroville Dam and the work ahead\nhttps://t.co/So4Bsyk7Jd\nRT @latimes: Residents return, but Oroville Dam dangers remain as new storm approaches https://t.co/fQFFq3XdR7 https://t.co/Lk8Svu6KqS\nRT @latimes: Residents return, but Oroville Dam dangers remain as new storm approaches https://t.co/fQFFq3XdR7 https://t.co/Lk8Svu6KqS\nRT @Italians4Trump: TRUMP APPROVES FEDERAL EMERGENCY AID FOR OROVILLE…\n https://t.co/yQyGv9oXtL\nMeanwhile where is that infrastructure bill? Oroville Is a Warning for California Dams as Climate Change Adds Stress https://t.co/9jdF0QMdTs\nRT @latimes: Not that long ago, Lake Oroville was so dry that archeological artifacts were exposed https://t.co/csThZQ5uZW https://t.co/Dmw…\nRT @Italians4Trump: TRUMP APPROVES FEDERAL EMERGENCY AID FOR OROVILLE…\n https://t.co/yQyGv9oXtL\nThe Latest: Workers rush repairs at dam, reduce lake level: OROVILLE, Calif. (AP) — The Latest on problems with an… https://t.co/RjlwpwGSzs\nOroville Dam Evacuations Lifted As Officials Say Structure Can Withstand Next Storm: People who live downstream of.. https://t.co/oSV8vH1dzf\nAlarms raised years ago about risks of Oroville dam’s spillways https://t.co/ePhj2Ey4U2\nNominal Canadian factory sales at all-time high: https://t.co/rKPkoJ75G8\nPresident supports using federal resources to help situation at Oroville Dam. https://t.co/sYQqjtDE6K\nThe old Fresno County Courthouse, looking back towards the Friant Dam.  @RobBarbery… https://t.co/Df14MYPg0L\nRT @kwilli1046: California Spent On High-Speed Rail And Illegal Immigrants, But Ignored Oroville Dam https://t.co/Yd0r9I6fac via @weaselzip…\nRecord absolu des ventes nominales des usines canadiennes : https://t.co/DiqUP2QdXc\nRT @3lectric5heep: California Governor Spends $25 Billion a Year on Illegals Instead of Failing Oroville Dam https://t.co/k90Jrwc60E @3lect…\nThe Water Infrastructure Debate #orovilledam  https://t.co/ttRaLJfpaY #science @sciam\nRT @CBSEveningNews: President Trump approves an Emergency Declaration for California related to the Lake Oroville Dam failure https://t.co/…\nAs Red Cross shelters near Oroville Dam stay open, training set in Bend Thursday for interested disaster volunteers https://t.co/ygIfuFO9IL\nRT @kentpg: Citizens  Rage Over Calif. Dems’ Financing Illegal Aliens While Ignoring Critical Oroville  Dam Repairs\n64 Billion on a wall?What could be more STUPID.Dam in CA is crumbling and flooding communities,while WH plays Russian Roulette#USA\nRT @jaweedkaleem: How Sikhs came to the rescue of Oroville Dam evacuees https://t.co/h3s3eSIxvF https://t.co/0u9Y4kvm0w\nRT @POTUSTRUMP6: California Governor Spends $25 Billion a Year on Illegals Instead of Failing Oroville Dam https://t.co/NNTw8c7VCt https://…\nRT @DailyMail: Kangaroos, zebras and mini deer found in evacuated homes near Oroville Dam https://t.co/zQgs3ULnTs https://t.co/cM2I9ffewC\nRT @MatureTrumpTwts: Closely monitoring Oroville Dam situation in Northern Calif. Asking residents to please heed warnings and evacuate/tak…\nRT @kwilli1046: Jerry Brown doesn't have time to visit Oroville Dam. Why aren't the Liberals bashing him like the Michigan Water Crisis htt…\nRT @mikemangas: From the base of Shasta Dam with almost 55,000 cfs coming through 11 open river valves. It's pretty cool video. https://t.c…\nAging infrastructure + global warming =  Oroville Dam will not be the last.   #infrastructure https://t.co/0uqnTOLedf\nI liked a @YouTube video https://t.co/Y59vLKMP02 Oroville Dam (UPDATE IN DESCRIPTION)\nRT @steph93065: Prayers to all our Trump supporting Californians in Oroville - innocent victims of democrats\n#OrovilleDam\nRT @PikeHaleighdee: Lake Oroville is losing 44.8 million gallons per minute, 2.69 billion gallons per hour. The lakes max capacity is 1.15…\n#OrovilleDam is demonstrating how complicated our water juggling act is going to get: https://t.co/dCOZGBU4ZP @zcolman @csmonitor\nRT @JODYHiGHROLLER: DAM THiS SHiT iS SOME iNSPiRATiONAL BALLER BARS 🔥🏄🏼🔥@MikeWiLLMadeIt @RaeSremmurd raesremmurd's video https://t.co/obbRA…\nDam I'm handsome asfck 🤔😆\nSome of the largest floods for the Feather River at Oroville occurred in late Feb/Mar (e.g., 1907, 1928, 1940, etc)… https://t.co/PKVEyUJAAf\nNo pending Oroville, but Michigan's aging, crumbling dams pose a risk https://t.co/PjlaJ33ZB0 https://t.co/SFsj8NWIgU\nRT @janetvitt: Oroville Dam isn’t the only piece of California flood infrastructure under strain https://t.co/qQ8sDwylVN\nDam @KevinHart4real called it😅 https://t.co/tcNgEABbjH\nRT @AmandaFike1982: Oroville Dam Evacuations Lifted As Officials Say Structure Can Withstand Next Storm https://t.co/nLGxGPbfml\nMosul Dam in #Iraq. Tabqa Dam in #Syria. \nBoth at risk of creating catastrophic humanitarian consequences.\nhttps://t.co/qauD2FcSTE\nRT @kwilli1046: California Governor Jerry Brown Spends $25B per year to support Illegals What if you spent that money on the Oroville Dam?…\nRT @VisitReddingCA: Well, this is some news: Distance from dam crest: 5.79 feet! Shasta Lake is at 96% of total capacity. https://t.co/Dg2w…\n@VeteransTake \n\nHey\nHillary https://t.co/z5jebST0K7 dam pant suits, a bad\ninvention\n"
     ]
    }
   ],
   "source": [
    "import tweepy\n",
    "from textblob import TextBlob\n",
    "import sys\n",
    "\n",
    "#twitter_api_keys\n",
    "\n",
    "from twitter_api_keys import consumer_key, consumer_secret, access_token, access_secret\n",
    "\n",
    "auth = tweepy.OAuthHandler(consumer_key,consumer_secret)\n",
    "auth.set_access_token(access_token,access_secret)\n",
    "\n",
    "api = tweepy.API(auth)\n",
    "\n",
    "max_tweets = 300\n",
    "oroville = \"40,-121.0,50mi\"\n",
    "CONUS = '39.8,-95.58,2500km'\n",
    "public_tweets = api.search(q= \"dam OR Oroville -damn\",geocode = CONUS, count = 300)\n",
    "\n",
    "for tweet in public_tweets:\n",
    "    print(tweet.text)\n",
    "    #print(tweet.location if hasattr(tweet, 'location') else \"Undefined location\")\n",
    "    if hasattr(tweet, 'location'):\n",
    "        print(tweet.location)\n",
    "        # if tweet.location is not NULL:\n",
    "        #     print(tweet.location)\n",
    "    if tweet.coordinates != None:\n",
    "        print(tweet.coordinates)\n",
    "#     analysis = TextBlob(tweet.text)\n",
    "#     print(analysis.sentiment)\n",
    "\n",
    "# class CustomStreamListener(tweepy.StreamListener):\n",
    "#     def on_status(self, status):\n",
    "#         if 'dam' in status.text.lower():\n",
    "#             print(status.text)\n",
    "# \n",
    "#     def on_error(self, status_code):\n",
    "#         print >> sys.stderr, 'Encountered error with status code:', status_code\n",
    "#         return True # Don't kill the stream\n",
    "# \n",
    "#     def on_timeout(self):\n",
    "#         print >> sys.stderr, 'Timeout...'\n",
    "#         return True # Don't kill the stream\n",
    "# \n",
    "# sapi = tweepy.streaming.Stream(auth, CustomStreamListener())\n",
    "# geo_tweets = sapi.filter(locations=[-124.482003,32.528832,-114.131211,42.0095169])\n",
    "# \n",
    "# \n",
    "# for tweet in geo_tweets:\n",
    "#     print(tweet.text)"
   ]
  },
  {
   "cell_type": "code",
   "execution_count": 41,
   "metadata": {},
   "outputs": [
    {
     "data": {
      "text/plain": [
       "100"
      ]
     },
     "execution_count": 41,
     "metadata": {},
     "output_type": "execute_result"
    }
   ],
   "source": [
    "len(public_tweets)"
   ]
  },
  {
   "cell_type": "code",
   "execution_count": 55,
   "metadata": {},
   "outputs": [
    {
     "data": {
      "text/plain": [
       "'Los Angeles, CA'"
      ]
     },
     "execution_count": 55,
     "metadata": {},
     "output_type": "execute_result"
    }
   ],
   "source": [
    "## obtain locations from user profile\n",
    "public_tweets[1].user.location"
   ]
  },
  {
   "cell_type": "code",
   "execution_count": 14,
   "metadata": {},
   "outputs": [
    {
     "data": {
      "text/plain": [
       "Status(_api=<tweepy.api.API object at 0x10a35cb70>, _json={'created_at': 'Tue Feb 14 23:58:25 +0000 2017', 'id': 831653858883440640, 'id_str': '831653858883440640', 'text': 'Re: Power plnt. \"Possibility of renewing evacuation &amp; of a possible event is very real\" - @ScottPCahill https://t.co/K3fQgyXTVW #OrovilleDam', 'truncated': False, 'entities': {'hashtags': [{'text': 'OrovilleDam', 'indices': [132, 144]}], 'symbols': [], 'user_mentions': [{'screen_name': 'ScottPCahill', 'name': 'Scott Cahill', 'id': 3419947149, 'id_str': '3419947149', 'indices': [94, 107]}], 'urls': [{'url': 'https://t.co/K3fQgyXTVW', 'expanded_url': 'https://www.peakprosperity.com/comment/204055#comment-204055', 'display_url': 'peakprosperity.com/comment/204055…', 'indices': [108, 131]}]}, 'metadata': {'iso_language_code': 'en', 'result_type': 'recent'}, 'source': '<a href=\"http://twitter.com\" rel=\"nofollow\">Twitter Web Client</a>', 'in_reply_to_status_id': 831534874251165698, 'in_reply_to_status_id_str': '831534874251165698', 'in_reply_to_user_id': 3419947149, 'in_reply_to_user_id_str': '3419947149', 'in_reply_to_screen_name': 'ScottPCahill', 'user': {'id': 829910052165320705, 'id_str': '829910052165320705', 'name': 'Oroville Dam', 'screen_name': 'Oroville_Dam', 'location': 'Oroville, CA', 'description': 'Unofficial - Info about the Oroville Dam Crisis', 'url': 'https://t.co/ZdkIuFn3oy', 'entities': {'url': {'urls': [{'url': 'https://t.co/ZdkIuFn3oy', 'expanded_url': 'https://www.reddit.com/r/orovilledam/new/', 'display_url': 'reddit.com/r/orovilledam/…', 'indices': [0, 23]}]}, 'description': {'urls': []}}, 'protected': False, 'followers_count': 1253, 'friends_count': 1816, 'listed_count': 15, 'created_at': 'Fri Feb 10 04:29:10 +0000 2017', 'favourites_count': 0, 'utc_offset': -28800, 'time_zone': 'Pacific Time (US & Canada)', 'geo_enabled': False, 'verified': False, 'statuses_count': 936, 'lang': 'en', 'contributors_enabled': False, 'is_translator': False, 'is_translation_enabled': False, 'profile_background_color': 'F5F8FA', 'profile_background_image_url': None, 'profile_background_image_url_https': None, 'profile_background_tile': False, 'profile_image_url': 'http://pbs.twimg.com/profile_images/830670276408987648/jWmRnBua_normal.jpg', 'profile_image_url_https': 'https://pbs.twimg.com/profile_images/830670276408987648/jWmRnBua_normal.jpg', 'profile_banner_url': 'https://pbs.twimg.com/profile_banners/829910052165320705/1486881987', 'profile_link_color': '1DA1F2', 'profile_sidebar_border_color': 'C0DEED', 'profile_sidebar_fill_color': 'DDEEF6', 'profile_text_color': '333333', 'profile_use_background_image': True, 'has_extended_profile': True, 'default_profile': True, 'default_profile_image': False, 'following': False, 'follow_request_sent': False, 'notifications': False, 'translator_type': 'none'}, 'geo': None, 'coordinates': None, 'place': None, 'contributors': None, 'is_quote_status': False, 'retweet_count': 0, 'favorite_count': 1, 'favorited': False, 'retweeted': False, 'possibly_sensitive': False, 'lang': 'en'}, created_at=datetime.datetime(2017, 2, 14, 23, 58, 25), id=831653858883440640, id_str='831653858883440640', text='Re: Power plnt. \"Possibility of renewing evacuation &amp; of a possible event is very real\" - @ScottPCahill https://t.co/K3fQgyXTVW #OrovilleDam', truncated=False, entities={'hashtags': [{'text': 'OrovilleDam', 'indices': [132, 144]}], 'symbols': [], 'user_mentions': [{'screen_name': 'ScottPCahill', 'name': 'Scott Cahill', 'id': 3419947149, 'id_str': '3419947149', 'indices': [94, 107]}], 'urls': [{'url': 'https://t.co/K3fQgyXTVW', 'expanded_url': 'https://www.peakprosperity.com/comment/204055#comment-204055', 'display_url': 'peakprosperity.com/comment/204055…', 'indices': [108, 131]}]}, metadata={'iso_language_code': 'en', 'result_type': 'recent'}, source='Twitter Web Client', source_url='http://twitter.com', in_reply_to_status_id=831534874251165698, in_reply_to_status_id_str='831534874251165698', in_reply_to_user_id=3419947149, in_reply_to_user_id_str='3419947149', in_reply_to_screen_name='ScottPCahill', author=User(_api=<tweepy.api.API object at 0x10a35cb70>, _json={'id': 829910052165320705, 'id_str': '829910052165320705', 'name': 'Oroville Dam', 'screen_name': 'Oroville_Dam', 'location': 'Oroville, CA', 'description': 'Unofficial - Info about the Oroville Dam Crisis', 'url': 'https://t.co/ZdkIuFn3oy', 'entities': {'url': {'urls': [{'url': 'https://t.co/ZdkIuFn3oy', 'expanded_url': 'https://www.reddit.com/r/orovilledam/new/', 'display_url': 'reddit.com/r/orovilledam/…', 'indices': [0, 23]}]}, 'description': {'urls': []}}, 'protected': False, 'followers_count': 1253, 'friends_count': 1816, 'listed_count': 15, 'created_at': 'Fri Feb 10 04:29:10 +0000 2017', 'favourites_count': 0, 'utc_offset': -28800, 'time_zone': 'Pacific Time (US & Canada)', 'geo_enabled': False, 'verified': False, 'statuses_count': 936, 'lang': 'en', 'contributors_enabled': False, 'is_translator': False, 'is_translation_enabled': False, 'profile_background_color': 'F5F8FA', 'profile_background_image_url': None, 'profile_background_image_url_https': None, 'profile_background_tile': False, 'profile_image_url': 'http://pbs.twimg.com/profile_images/830670276408987648/jWmRnBua_normal.jpg', 'profile_image_url_https': 'https://pbs.twimg.com/profile_images/830670276408987648/jWmRnBua_normal.jpg', 'profile_banner_url': 'https://pbs.twimg.com/profile_banners/829910052165320705/1486881987', 'profile_link_color': '1DA1F2', 'profile_sidebar_border_color': 'C0DEED', 'profile_sidebar_fill_color': 'DDEEF6', 'profile_text_color': '333333', 'profile_use_background_image': True, 'has_extended_profile': True, 'default_profile': True, 'default_profile_image': False, 'following': False, 'follow_request_sent': False, 'notifications': False, 'translator_type': 'none'}, id=829910052165320705, id_str='829910052165320705', name='Oroville Dam', screen_name='Oroville_Dam', location='Oroville, CA', description='Unofficial - Info about the Oroville Dam Crisis', url='https://t.co/ZdkIuFn3oy', entities={'url': {'urls': [{'url': 'https://t.co/ZdkIuFn3oy', 'expanded_url': 'https://www.reddit.com/r/orovilledam/new/', 'display_url': 'reddit.com/r/orovilledam/…', 'indices': [0, 23]}]}, 'description': {'urls': []}}, protected=False, followers_count=1253, friends_count=1816, listed_count=15, created_at=datetime.datetime(2017, 2, 10, 4, 29, 10), favourites_count=0, utc_offset=-28800, time_zone='Pacific Time (US & Canada)', geo_enabled=False, verified=False, statuses_count=936, lang='en', contributors_enabled=False, is_translator=False, is_translation_enabled=False, profile_background_color='F5F8FA', profile_background_image_url=None, profile_background_image_url_https=None, profile_background_tile=False, profile_image_url='http://pbs.twimg.com/profile_images/830670276408987648/jWmRnBua_normal.jpg', profile_image_url_https='https://pbs.twimg.com/profile_images/830670276408987648/jWmRnBua_normal.jpg', profile_banner_url='https://pbs.twimg.com/profile_banners/829910052165320705/1486881987', profile_link_color='1DA1F2', profile_sidebar_border_color='C0DEED', profile_sidebar_fill_color='DDEEF6', profile_text_color='333333', profile_use_background_image=True, has_extended_profile=True, default_profile=True, default_profile_image=False, following=False, follow_request_sent=False, notifications=False, translator_type='none'), user=User(_api=<tweepy.api.API object at 0x10a35cb70>, _json={'id': 829910052165320705, 'id_str': '829910052165320705', 'name': 'Oroville Dam', 'screen_name': 'Oroville_Dam', 'location': 'Oroville, CA', 'description': 'Unofficial - Info about the Oroville Dam Crisis', 'url': 'https://t.co/ZdkIuFn3oy', 'entities': {'url': {'urls': [{'url': 'https://t.co/ZdkIuFn3oy', 'expanded_url': 'https://www.reddit.com/r/orovilledam/new/', 'display_url': 'reddit.com/r/orovilledam/…', 'indices': [0, 23]}]}, 'description': {'urls': []}}, 'protected': False, 'followers_count': 1253, 'friends_count': 1816, 'listed_count': 15, 'created_at': 'Fri Feb 10 04:29:10 +0000 2017', 'favourites_count': 0, 'utc_offset': -28800, 'time_zone': 'Pacific Time (US & Canada)', 'geo_enabled': False, 'verified': False, 'statuses_count': 936, 'lang': 'en', 'contributors_enabled': False, 'is_translator': False, 'is_translation_enabled': False, 'profile_background_color': 'F5F8FA', 'profile_background_image_url': None, 'profile_background_image_url_https': None, 'profile_background_tile': False, 'profile_image_url': 'http://pbs.twimg.com/profile_images/830670276408987648/jWmRnBua_normal.jpg', 'profile_image_url_https': 'https://pbs.twimg.com/profile_images/830670276408987648/jWmRnBua_normal.jpg', 'profile_banner_url': 'https://pbs.twimg.com/profile_banners/829910052165320705/1486881987', 'profile_link_color': '1DA1F2', 'profile_sidebar_border_color': 'C0DEED', 'profile_sidebar_fill_color': 'DDEEF6', 'profile_text_color': '333333', 'profile_use_background_image': True, 'has_extended_profile': True, 'default_profile': True, 'default_profile_image': False, 'following': False, 'follow_request_sent': False, 'notifications': False, 'translator_type': 'none'}, id=829910052165320705, id_str='829910052165320705', name='Oroville Dam', screen_name='Oroville_Dam', location='Oroville, CA', description='Unofficial - Info about the Oroville Dam Crisis', url='https://t.co/ZdkIuFn3oy', entities={'url': {'urls': [{'url': 'https://t.co/ZdkIuFn3oy', 'expanded_url': 'https://www.reddit.com/r/orovilledam/new/', 'display_url': 'reddit.com/r/orovilledam/…', 'indices': [0, 23]}]}, 'description': {'urls': []}}, protected=False, followers_count=1253, friends_count=1816, listed_count=15, created_at=datetime.datetime(2017, 2, 10, 4, 29, 10), favourites_count=0, utc_offset=-28800, time_zone='Pacific Time (US & Canada)', geo_enabled=False, verified=False, statuses_count=936, lang='en', contributors_enabled=False, is_translator=False, is_translation_enabled=False, profile_background_color='F5F8FA', profile_background_image_url=None, profile_background_image_url_https=None, profile_background_tile=False, profile_image_url='http://pbs.twimg.com/profile_images/830670276408987648/jWmRnBua_normal.jpg', profile_image_url_https='https://pbs.twimg.com/profile_images/830670276408987648/jWmRnBua_normal.jpg', profile_banner_url='https://pbs.twimg.com/profile_banners/829910052165320705/1486881987', profile_link_color='1DA1F2', profile_sidebar_border_color='C0DEED', profile_sidebar_fill_color='DDEEF6', profile_text_color='333333', profile_use_background_image=True, has_extended_profile=True, default_profile=True, default_profile_image=False, following=False, follow_request_sent=False, notifications=False, translator_type='none'), geo=None, coordinates=None, place=None, contributors=None, is_quote_status=False, retweet_count=0, favorite_count=1, favorited=False, retweeted=False, possibly_sensitive=False, lang='en')"
      ]
     },
     "execution_count": 14,
     "metadata": {},
     "output_type": "execute_result"
    }
   ],
   "source": [
    "public_tweets[2]"
   ]
  },
  {
   "cell_type": "code",
   "execution_count": null,
   "metadata": {},
   "outputs": [],
   "source": [
    ""
   ]
  }
 ],
 "metadata": {
  "kernelspec": {
   "display_name": "Python 2",
   "language": "python",
   "name": "python2"
  },
  "language_info": {
   "codemirror_mode": {
    "name": "ipython",
    "version": 2.0
   },
   "file_extension": ".py",
   "mimetype": "text/x-python",
   "name": "python",
   "nbconvert_exporter": "python",
   "pygments_lexer": "ipython2",
   "version": "2.7.6"
  }
 },
 "nbformat": 4,
 "nbformat_minor": 0
}